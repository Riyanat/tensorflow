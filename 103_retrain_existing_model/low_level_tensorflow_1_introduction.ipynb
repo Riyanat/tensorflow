{
 "cells": [
  {
   "cell_type": "markdown",
   "metadata": {},
   "source": [
    "# Low Level Tensorflow \n",
    "\n",
    "## Introduction\n",
    "\n",
    "first the imports"
   ]
  },
  {
   "cell_type": "code",
   "execution_count": 10,
   "metadata": {},
   "outputs": [],
   "source": [
    "from __future__ import absolute_import\n",
    "from __future__ import division\n",
    "from __future__ import print_function\n",
    "\n",
    "import numpy as np\n",
    "import tensorflow as tf\n",
    "\n"
   ]
  },
  {
   "cell_type": "markdown",
   "metadata": {},
   "source": [
    "Terminology\n",
    "* Tensor: central (smallest?) unit in tensorflow. A tensor is represented by an array of any number of dimensions \n",
    "* Rank: the number of dimensions a tensor has.\n",
    "* Shape: A tuple of integers \n",
    "\n",
    "e.g. a tensor represented by  2 * 3  array. indicates a Rank-2 tensor (2 dimension). The shape of the tensor would be (2,3).\n",
    "[[1, 2, 3], [4, 5, 6]]\n",
    "(1 2 3)\n",
    "(4 5 6)\n"
   ]
  },
  {
   "cell_type": "code",
   "execution_count": 15,
   "metadata": {},
   "outputs": [
    {
     "name": "stdout",
     "output_type": "stream",
     "text": [
      "Tensor(\"Const_11:0\", shape=(), dtype=float32)\n",
      "Tensor(\"Const_12:0\", shape=(), dtype=float32)\n",
      "Tensor(\"add_5:0\", shape=(), dtype=float32)\n",
      "Tensor(\"mul_2:0\", shape=(), dtype=float32)\n",
      "Tensor(\"truediv_2:0\", shape=(), dtype=float32)\n"
     ]
    }
   ],
   "source": [
    "a = tf.constant(3.0, dtype=tf.float32)\n",
    "b = tf.constant(4.0)\n",
    "sum = a + b\n",
    "multiplication = a * b\n",
    "division = a / b\n",
    "print(a)\n",
    "print(b)\n",
    "print(sum)\n",
    "print(multiplication)\n",
    "print(division)"
   ]
  },
  {
   "cell_type": "code",
   "execution_count": 22,
   "metadata": {},
   "outputs": [],
   "source": [
    "writer = tf.summary.FileWriter('.')\n",
    "writer.add_graph(tf.get_default_graph())\n"
   ]
  },
  {
   "cell_type": "code",
   "execution_count": 23,
   "metadata": {},
   "outputs": [
    {
     "name": "stdout",
     "output_type": "stream",
     "text": [
      "7.0\n"
     ]
    }
   ],
   "source": [
    "sess = tf.Session()\n",
    "print(sess.run(total))"
   ]
  },
  {
   "cell_type": "code",
   "execution_count": 24,
   "metadata": {},
   "outputs": [
    {
     "name": "stdout",
     "output_type": "stream",
     "text": [
      "{'ab': (3.0, 4.0), 'total': 7.0, 'mult': 12.0, 'trueDiv': 0.75}\n"
     ]
    }
   ],
   "source": [
    "print(sess.run({'ab':(a,b), 'total': total, 'mult': multiplication, 'trueDiv': division}))"
   ]
  },
  {
   "cell_type": "code",
   "execution_count": 21,
   "metadata": {},
   "outputs": [],
   "source": [
    "writer.flush()"
   ]
  },
  {
   "cell_type": "markdown",
   "metadata": {},
   "source": [
    "    #### An example of Random Values"
   ]
  },
  {
   "cell_type": "code",
   "execution_count": 44,
   "metadata": {},
   "outputs": [
    {
     "name": "stdout",
     "output_type": "stream",
     "text": [
      "[0.4353665  0.12567902 0.48000693]\n",
      "[0.21204722 0.68860495 0.46296203]\n",
      "(array([1.7259429, 1.0290451, 1.6006452], dtype=float32), array([1.7259429, 1.0290451, 1.6006452], dtype=float32))\n"
     ]
    }
   ],
   "source": [
    "vec = tf.random_uniform(shape=(3,))\n",
    "out1 = vec + 1\n",
    "out2 = vec + 1\n",
    "print(sess.run(vec))\n",
    "print(sess.run(vec))\n",
    "\n",
    "print(sess.run((out1, out2)))"
   ]
  },
  {
   "cell_type": "markdown",
   "metadata": {},
   "source": [
    "#### PlaceHolders\n",
    "more interesting ..."
   ]
  },
  {
   "cell_type": "code",
   "execution_count": 45,
   "metadata": {},
   "outputs": [
    {
     "name": "stdout",
     "output_type": "stream",
     "text": [
      "7.5\n",
      "[3. 6.]\n"
     ]
    }
   ],
   "source": [
    "x = tf.placeholder(tf.float32)\n",
    "y = tf.placeholder(tf.float32)\n",
    "z = x + y\n",
    "print(sess.run(z, feed_dict={x:3, y:4.5}))\n",
    "print(sess.run(z, feed_dict={x:[1,2], y:[2, 4]}))"
   ]
  },
  {
   "cell_type": "markdown",
   "metadata": {},
   "source": [
    "#### Datasets "
   ]
  },
  {
   "cell_type": "code",
   "execution_count": 59,
   "metadata": {},
   "outputs": [],
   "source": [
    "my_data = [\n",
    "    [0, 1,],\n",
    "    [2, 3,],\n",
    "    [4, 5,],\n",
    "    [6, 7,],\n",
    "]\n",
    "\n",
    "slices = tf.data.Dataset.from_tensor_slices(my_data)\n",
    "next_item = slices.make_one_shot_iterator().get_next()\n"
   ]
  },
  {
   "cell_type": "code",
   "execution_count": 60,
   "metadata": {},
   "outputs": [
    {
     "name": "stdout",
     "output_type": "stream",
     "text": [
      "[0 1]\n",
      "[2 3]\n",
      "[4 5]\n",
      "[6 7]\n"
     ]
    }
   ],
   "source": [
    "# while True:\n",
    "#     try:\n",
    "#         print(sess.run(next_item))\n",
    "#     except tf.errors.OutOfRangeError:\n",
    "#         break\n",
    "i = 0\n",
    "while i < 4:\n",
    "    print(sess.run(next_item))\n",
    "    i +=1"
   ]
  },
  {
   "cell_type": "code",
   "execution_count": 62,
   "metadata": {},
   "outputs": [
    {
     "name": "stdout",
     "output_type": "stream",
     "text": [
      "[0 1]\n",
      "[2 3]\n",
      "[4 5]\n",
      "[6 7]\n"
     ]
    }
   ],
   "source": [
    "r = tf.random_normal([10,3])\n",
    "dataset = tf.data.Dataset.from_tensor_slices(my_data)\n",
    "iterator = dataset.make_initializable_iterator()\n",
    "next_row = iterator.get_next()\n",
    "\n",
    "sess.run(iterator.initializer)\n",
    "while True:\n",
    "  try:\n",
    "    print(sess.run(next_row))\n",
    "  except tf.errors.OutOfRangeError:\n",
    "    break"
   ]
  },
  {
   "cell_type": "markdown",
   "metadata": {},
   "source": [
    " #### Laaaayers!!! :)\n"
   ]
  },
  {
   "cell_type": "code",
   "execution_count": 74,
   "metadata": {},
   "outputs": [
    {
     "name": "stdout",
     "output_type": "stream",
     "text": [
      "[[-18.016333]]\n"
     ]
    }
   ],
   "source": [
    "x = tf.placeholder(tf.float32, shape=[None,3])\n",
    "model = tf.layers.Dense(units=1)\n",
    "y = model(x)\n",
    "\n",
    "init = tf.global_variables_initializer()\n",
    "sess.run(init)\n",
    "print(sess.run(y, feed_dict={x:[[7.,8.,9.]]}))"
   ]
  },
  {
   "cell_type": "code",
   "execution_count": 79,
   "metadata": {},
   "outputs": [
    {
     "name": "stdout",
     "output_type": "stream",
     "text": [
      "[[ 1.  0.  5.]\n",
      " [ 1.  0. 10.]\n",
      " [ 0.  1.  8.]\n",
      " [ 0.  1.  9.]]\n"
     ]
    }
   ],
   "source": [
    "features = {\n",
    "    'sales' : [[5], [10], [8], [9]],\n",
    "    'department' : ['sports', 'sports', 'gardening', 'gardening']\n",
    "}\n",
    "\n",
    "department_column = tf.feature_column.categorical_column_with_vocabulary_list(\n",
    "    'department', ['sports', 'gardening']\n",
    ")\n",
    "\n",
    "department_column = tf.feature_column.indicator_column(department_column)\n",
    "\n",
    "columns = [\n",
    "    tf.feature_column.numeric_column('sales'), \n",
    "    department_column\n",
    "]\n",
    "\n",
    "inputs = tf.feature_column.input_layer(features, columns)\n",
    "\n",
    "var_init = tf.global_variables_initializer()\n",
    "table_init = tf.tables_initializer()\n",
    "sess = tf.Session()\n",
    "sess.run((var_init, table_init))\n",
    "print(sess.run(inputs))"
   ]
  },
  {
   "cell_type": "markdown",
   "metadata": {},
   "source": [
    "Training"
   ]
  },
  {
   "cell_type": "code",
   "execution_count": 121,
   "metadata": {},
   "outputs": [
    {
     "name": "stdout",
     "output_type": "stream",
     "text": [
      "Before Optimisation\n",
      "[[-0.7695125]\n",
      " [-1.539025 ]\n",
      " [-2.3085375]\n",
      " [-3.07805  ]]\n",
      "0.24599612\n",
      "After Optimisation\n",
      "[[-0.47258702]\n",
      " [-1.2290008 ]\n",
      " [-1.9854145 ]\n",
      " [-2.7418284 ]]\n",
      "0.08617654\n",
      "Expected Output\n",
      "[[ 0.]\n",
      " [-1.]\n",
      " [-2.]\n",
      " [-3.]]\n"
     ]
    }
   ],
   "source": [
    "input = tf.constant([[1], [2], [3], [4]], dtype=tf.float32)\n",
    "expected_output = tf.constant([[0], [-1], [-2], [-3]], dtype=tf.float32)\n",
    "sum = input.__add__(input)\n",
    "linear_model = tf.layers.Dense(units=1)\n",
    "\n",
    "predictions = linear_model(input)\n",
    "loss = tf.losses.mean_squared_error(labels=expected_output, predictions=predictions)\n",
    "\n",
    "sess = tf.Session()\n",
    "init = tf.global_variables_initializer()\n",
    "sess.run(init)\n",
    "\n",
    "print(\"Before Optimisation\")\n",
    "print(sess.run(predictions))\n",
    "print(sess.run(loss))\n",
    "optimizer = tf.train.GradientDescentOptimizer(0.01)\n",
    "train = optimizer.minimize(loss)\n",
    "\n",
    "loss_value = 0\n",
    "for i in range(100):\n",
    "    _, loss_value = sess.run((train, loss))\n",
    "\n",
    "print(\"After Optimisation\")\n",
    "print(sess.run(predictions))\n",
    "print(loss_value)\n",
    "\n",
    "print(\"Expected Output\")\n",
    "print(sess.run(expected_output))"
   ]
  },
  {
   "cell_type": "code",
   "execution_count": 122,
   "metadata": {},
   "outputs": [],
   "source": [
    "writer = tf.summary.FileWriter('.')\n",
    "writer.add_graph(tf.get_default_graph())"
   ]
  },
  {
   "cell_type": "code",
   "execution_count": null,
   "metadata": {},
   "outputs": [],
   "source": []
  }
 ],
 "metadata": {
  "kernelspec": {
   "display_name": "Python [conda env:tensorflow]",
   "language": "python",
   "name": "conda-env-tensorflow-py"
  },
  "language_info": {
   "codemirror_mode": {
    "name": "ipython",
    "version": 3
   },
   "file_extension": ".py",
   "mimetype": "text/x-python",
   "name": "python",
   "nbconvert_exporter": "python",
   "pygments_lexer": "ipython3",
   "version": "3.6.6"
  }
 },
 "nbformat": 4,
 "nbformat_minor": 2
}
